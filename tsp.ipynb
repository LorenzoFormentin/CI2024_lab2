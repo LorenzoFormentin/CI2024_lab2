{
 "cells": [
  {
   "cell_type": "markdown",
   "metadata": {},
   "source": [
    "# Lab 2 - Travelling salesman problem\n",
    "https://www.wolframcloud.com/obj/giovanni.squillero/Published/Lab2-tsp.nb"
   ]
  },
  {
   "cell_type": "code",
   "execution_count": 36,
   "metadata": {},
   "outputs": [
    {
     "name": "stderr",
     "output_type": "stream",
     "text": [
      "/home/lorenzo/.local/lib/python3.10/site-packages/tqdm/auto.py:21: TqdmWarning: IProgress not found. Please update jupyter and ipywidgets. See https://ipywidgets.readthedocs.io/en/stable/user_install.html\n",
      "  from .autonotebook import tqdm as notebook_tqdm\n"
     ]
    }
   ],
   "source": [
    "import logging\n",
    "from itertools import combinations\n",
    "import pandas as pd\n",
    "import numpy as np\n",
    "from geopy.distance import geodesic\n",
    "import networkx as nx\n",
    "import random\n",
    "from itertools import combinations\n",
    "from tqdm.auto import tqdm\n",
    "\n",
    "from icecream import ic\n",
    "\n",
    "logging.basicConfig(level=logging.DEBUG)"
   ]
  },
  {
   "cell_type": "markdown",
   "metadata": {},
   "source": [
    "### Data Loading"
   ]
  },
  {
   "cell_type": "code",
   "execution_count": 63,
   "metadata": {},
   "outputs": [
    {
     "data": {
      "text/html": [
       "<div>\n",
       "<style scoped>\n",
       "    .dataframe tbody tr th:only-of-type {\n",
       "        vertical-align: middle;\n",
       "    }\n",
       "\n",
       "    .dataframe tbody tr th {\n",
       "        vertical-align: top;\n",
       "    }\n",
       "\n",
       "    .dataframe thead th {\n",
       "        text-align: right;\n",
       "    }\n",
       "</style>\n",
       "<table border=\"1\" class=\"dataframe\">\n",
       "  <thead>\n",
       "    <tr style=\"text-align: right;\">\n",
       "      <th></th>\n",
       "      <th>name</th>\n",
       "      <th>lat</th>\n",
       "      <th>lon</th>\n",
       "    </tr>\n",
       "  </thead>\n",
       "  <tbody>\n",
       "    <tr>\n",
       "      <th>0</th>\n",
       "      <td>Isangel</td>\n",
       "      <td>-19.53</td>\n",
       "      <td>169.28</td>\n",
       "    </tr>\n",
       "    <tr>\n",
       "      <th>1</th>\n",
       "      <td>Lakatoro</td>\n",
       "      <td>-16.09</td>\n",
       "      <td>167.40</td>\n",
       "    </tr>\n",
       "    <tr>\n",
       "      <th>2</th>\n",
       "      <td>Longana</td>\n",
       "      <td>-15.30</td>\n",
       "      <td>168.00</td>\n",
       "    </tr>\n",
       "    <tr>\n",
       "      <th>3</th>\n",
       "      <td>Luganville</td>\n",
       "      <td>-15.51</td>\n",
       "      <td>167.15</td>\n",
       "    </tr>\n",
       "    <tr>\n",
       "      <th>4</th>\n",
       "      <td>Norsup</td>\n",
       "      <td>-16.07</td>\n",
       "      <td>167.39</td>\n",
       "    </tr>\n",
       "  </tbody>\n",
       "</table>\n",
       "</div>"
      ],
      "text/plain": [
       "         name    lat     lon\n",
       "0     Isangel -19.53  169.28\n",
       "1    Lakatoro -16.09  167.40\n",
       "2     Longana -15.30  168.00\n",
       "3  Luganville -15.51  167.15\n",
       "4      Norsup -16.07  167.39"
      ]
     },
     "execution_count": 63,
     "metadata": {},
     "output_type": "execute_result"
    }
   ],
   "source": [
    "SOURCE = 'cities/vanuatu.csv'\n",
    "CITIES = pd.read_csv(SOURCE, header=None, names=['name', 'lat', 'lon'])\n",
    "DIST_MATRIX = np.zeros((len(CITIES), len(CITIES)))\n",
    "for c1, c2 in combinations(CITIES.itertuples(), 2):\n",
    "    DIST_MATRIX[c1.Index, c2.Index] = DIST_MATRIX[c2.Index, c1.Index] = geodesic(\n",
    "        (c1.lat, c1.lon), (c2.lat, c2.lon)\n",
    "    ).km\n",
    "CITIES.head()"
   ]
  },
  {
   "cell_type": "markdown",
   "metadata": {},
   "source": [
    "### Fitness"
   ]
  },
  {
   "cell_type": "code",
   "execution_count": 22,
   "metadata": {},
   "outputs": [],
   "source": [
    "def tsp_cost(tsp):\n",
    "    assert tsp[0] == tsp[-1]\n",
    "    assert set(tsp) == set(range(len(CITIES)))\n",
    "\n",
    "    tot_cost = 0\n",
    "    for c1, c2 in zip(tsp, tsp[1:]):\n",
    "        tot_cost += DIST_MATRIX[c1, c2]\n",
    "    return tot_cost"
   ]
  },
  {
   "cell_type": "markdown",
   "metadata": {},
   "source": [
    "### Faster but less accurate version"
   ]
  },
  {
   "cell_type": "code",
   "execution_count": 64,
   "metadata": {},
   "outputs": [
    {
     "name": "stderr",
     "output_type": "stream",
     "text": [
      "  0%|          | 0/200 [00:00<?, ?it/s]"
     ]
    },
    {
     "name": "stderr",
     "output_type": "stream",
     "text": [
      "100%|██████████| 200/200 [00:03<00:00, 52.68it/s]\n"
     ]
    },
    {
     "name": "stdout",
     "output_type": "stream",
     "text": [
      "Best Tour:[4, 3, 5, 6, 2, 0, 7, 1, 4]\n",
      "Best Fitness (Total Distance): 1345.54km\n"
     ]
    }
   ],
   "source": [
    "POPULATION_SIZE = 200\n",
    "NUM_GENERATIONS = 200\n",
    "MUTATION_RATE = 0.2\n",
    "\n",
    "def initialize_population(pop_size, num_cities):\n",
    "    population = [np.random.permutation(num_cities).tolist() for _ in range(pop_size)]\n",
    "    for tour in population:\n",
    "        tour.append(tour[0])  \n",
    "    return population\n",
    "\n",
    "def tournament_selection(population, k=10):\n",
    "    selected = random.choices(population, k=k)\n",
    "    selected_fitness = [tsp_cost(tour) for tour in selected]\n",
    "    return selected[np.argmin(selected_fitness)]\n",
    "\n",
    "# Partially Mapped Crossover (PMX) for creating offspring\n",
    "def pmx_crossover(parent1, parent2):\n",
    "    size = len(parent1) - 1\n",
    "    start, end = sorted(random.sample(range(size), 2))\n",
    "    child = [-1] * size\n",
    "    child[start:end+1] = parent1[start:end+1]\n",
    "\n",
    "    for i in range(start, end+1):\n",
    "        if parent2[i] not in child:\n",
    "            idx = i\n",
    "            while start <= idx <= end:\n",
    "                idx = parent2.index(parent1[idx])\n",
    "            child[idx] = parent2[i]\n",
    "\n",
    "    for i in range(size):\n",
    "        if child[i] == -1:\n",
    "            child[i] = parent2[i]\n",
    "\n",
    "    return child + [child[0]]\n",
    "\n",
    "def mutate(tour, rate = MUTATION_RATE):\n",
    "    if random.random() < rate:\n",
    "        idx1, idx2 = random.sample(range(1, len(tour) - 2), 2)\n",
    "        tour[idx1], tour[idx2] = tour[idx2], tour[idx1]\n",
    "    return tour\n",
    "\n",
    "def evolutionary_algorithm():\n",
    "    population = initialize_population(POPULATION_SIZE, len(CITIES))\n",
    "    best_tour = min(population, key=tsp_cost)\n",
    "    best_fitness = tsp_cost(best_tour)\n",
    "\n",
    "    for generation in tqdm(range(NUM_GENERATIONS)):\n",
    "        new_population = []\n",
    "        for _ in range(POPULATION_SIZE // 2):\n",
    "            parent1 = tournament_selection(population)\n",
    "            parent2 = tournament_selection(population)\n",
    "            child1 = mutate(pmx_crossover(parent1, parent2))\n",
    "            child2 = mutate(pmx_crossover(parent2, parent1))\n",
    "            new_population.extend([child1, child2])\n",
    "\n",
    "        population = sorted(new_population + population, key=tsp_cost)[:POPULATION_SIZE]\n",
    "        current_best = min(population, key=tsp_cost)\n",
    "        if tsp_cost(current_best) < best_fitness:\n",
    "            best_tour = current_best\n",
    "            best_fitness = tsp_cost(current_best)\n",
    "\n",
    "    return best_tour, best_fitness\n",
    "\n",
    "best_tour_result, best_fitness_result = evolutionary_algorithm()\n",
    "print(f\"Best Tour:{best_tour_result}\")\n",
    "print(f\"Best Fitness (Total Distance): {best_fitness_result:.2f}km\")"
   ]
  },
  {
   "cell_type": "markdown",
   "metadata": {},
   "source": [
    "### Slow but more accurate version"
   ]
  },
  {
   "cell_type": "code",
   "execution_count": 65,
   "metadata": {},
   "outputs": [
    {
     "name": "stderr",
     "output_type": "stream",
     "text": [
      "100%|██████████| 1000/1000 [01:08<00:00, 14.56it/s]\n"
     ]
    },
    {
     "name": "stdout",
     "output_type": "stream",
     "text": [
      "Best Tour:[4, 3, 5, 6, 2, 0, 7, 1, 4]\n",
      "Best Fitness (Total Distance): 1345.54km\n"
     ]
    }
   ],
   "source": [
    "POPULATION_SIZE = 200\n",
    "NUM_GENERATIONS = 1000\n",
    "MUTATION_RATE = 0.3\n",
    "ELITE_FRACTION = 0.02\n",
    "\n",
    "def initialize_population(pop_size, num_cities):\n",
    "    population = []\n",
    "    for _ in range(pop_size):\n",
    "        new_tour = np.random.permutation(num_cities).tolist()\n",
    "        while new_tour in population:\n",
    "            new_tour = np.random.permutation(num_cities).tolist()\n",
    "        population.append(new_tour)\n",
    "    for tour in population:\n",
    "        tour.append(tour[0])\n",
    "    return population\n",
    "\n",
    "def roulette_wheel_selection(population, fitness_scores):\n",
    "    fitness_total = sum(1 / f for f in fitness_scores)\n",
    "    probabilities = [(1 / f) / fitness_total for f in fitness_scores]\n",
    "    selected_index = np.random.choice(len(population), p=probabilities)\n",
    "    return population[selected_index]\n",
    "\n",
    "# Crossover: Order Crossover (OX) for more diverse offspring\n",
    "def order_crossover(parent1, parent2):\n",
    "    size = len(parent1) - 1\n",
    "    start, end = sorted(random.sample(range(size), 2))\n",
    "    \n",
    "    child = [-1] * size\n",
    "    child[start:end+1] = parent1[start:end+1]\n",
    "\n",
    "    fill_positions = [i for i in range(size) if child[i] == -1]\n",
    "    fill_values = [city for city in parent2 if city not in child]\n",
    "    for i, value in zip(fill_positions, fill_values):\n",
    "        child[i] = value\n",
    "    \n",
    "    return child + [child[0]]\n",
    "\n",
    "def adaptive_mutate(tour, generation, num_gens = NUM_GENERATIONS, rate = MUTATION_RATE):\n",
    "    adjusted_rate = rate * (1 - (generation / num_gens))\n",
    "    if random.random() < adjusted_rate:\n",
    "        idx1, idx2 = random.sample(range(1, len(tour) - 2), 2)\n",
    "        tour[idx1], tour[idx2] = tour[idx2], tour[idx1]\n",
    "    return tour\n",
    "\n",
    "def evolutionary_algorithm():\n",
    "    population = initialize_population(POPULATION_SIZE, len(CITIES))\n",
    "    best_tour = min(population, key=tsp_cost)\n",
    "    best_fitness = tsp_cost(best_tour)\n",
    "\n",
    "    for generation in tqdm(range(NUM_GENERATIONS)):\n",
    "        fitness_scores = [tsp_cost(tour) for tour in population]\n",
    "        elite_count = int(ELITE_FRACTION * POPULATION_SIZE)\n",
    "        elites = sorted(population, key=tsp_cost)[:elite_count]\n",
    "        \n",
    "        new_population = elites[:]\n",
    "        for _ in range(POPULATION_SIZE - len(new_population)):\n",
    "            parent1 = roulette_wheel_selection(population, fitness_scores)\n",
    "            parent2 = roulette_wheel_selection(population, fitness_scores)\n",
    "            \n",
    "            child = adaptive_mutate(order_crossover(parent1, parent2), generation)\n",
    "            new_population.append(child)\n",
    "\n",
    "        population = new_population\n",
    "        current_best = min(population, key=tsp_cost)\n",
    "        if tsp_cost(current_best) < best_fitness:\n",
    "            best_tour, best_fitness = current_best, tsp_cost(current_best)\n",
    "\n",
    "    return best_tour, best_fitness\n",
    "\n",
    "best_tour_result, best_fitness_result = evolutionary_algorithm()\n",
    "print(f\"Best Tour:{best_tour_result}\")\n",
    "print(f\"Best Fitness (Total Distance): {best_fitness_result:.2f}km\")"
   ]
  }
 ],
 "metadata": {
  "kernelspec": {
   "display_name": "Python 3",
   "language": "python",
   "name": "python3"
  },
  "language_info": {
   "codemirror_mode": {
    "name": "ipython",
    "version": 3
   },
   "file_extension": ".py",
   "mimetype": "text/x-python",
   "name": "python",
   "nbconvert_exporter": "python",
   "pygments_lexer": "ipython3",
   "version": "3.10.12"
  }
 },
 "nbformat": 4,
 "nbformat_minor": 2
}
